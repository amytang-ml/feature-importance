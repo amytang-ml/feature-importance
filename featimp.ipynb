{
 "cells": [
  {
   "cell_type": "markdown",
   "id": "155193c5-256a-4be6-97c5-5cfa42afde5d",
   "metadata": {},
   "source": [
    "# Feature importance and selection"
   ]
  },
  {
   "cell_type": "code",
   "execution_count": 1,
   "id": "f8be8036-fadd-47cf-b156-6bb56978a8a8",
   "metadata": {},
   "outputs": [],
   "source": [
    "from featimp import *"
   ]
  },
  {
   "cell_type": "markdown",
   "id": "1cc5ac2f-a212-4558-b8c7-7938d3d66776",
   "metadata": {},
   "source": [
    "What is feature importance?\n",
    "\n",
    "Feature importance is a technique used in machine learning to identify the most important features (i.e., variables) in a dataset for predicting a target variable. In essence, feature importance measures the contribution of each feature to the overall predictive power of a machine learning model."
   ]
  },
  {
   "cell_type": "markdown",
   "id": "0d939de0-e5c8-4cf0-a90d-4db4a29de22c",
   "metadata": {},
   "source": [
    "To explore feature importance and selection, we will use a car dataset which includes the variables make, model, year, mileage, price, color, state, date, and price. Price will be our target variable (y)."
   ]
  },
  {
   "cell_type": "markdown",
   "id": "2d455eb2-8792-4b80-a50a-565fd58b3e96",
   "metadata": {},
   "source": [
    "#### Data cleaning and reshaping"
   ]
  },
  {
   "cell_type": "code",
   "execution_count": 2,
   "id": "34df8c43-da9e-40c3-a6b3-66bd53541a42",
   "metadata": {},
   "outputs": [],
   "source": [
    "X = df.drop(['price', 'date'], axis=1)\n",
    "y = df['price']"
   ]
  },
  {
   "cell_type": "code",
   "execution_count": 3,
   "id": "92d533eb-e555-409a-8f6f-8d773393ae93",
   "metadata": {},
   "outputs": [
    {
     "data": {
      "text/html": [
       "<div>\n",
       "<style scoped>\n",
       "    .dataframe tbody tr th:only-of-type {\n",
       "        vertical-align: middle;\n",
       "    }\n",
       "\n",
       "    .dataframe tbody tr th {\n",
       "        vertical-align: top;\n",
       "    }\n",
       "\n",
       "    .dataframe thead th {\n",
       "        text-align: right;\n",
       "    }\n",
       "</style>\n",
       "<table border=\"1\" class=\"dataframe\">\n",
       "  <thead>\n",
       "    <tr style=\"text-align: right;\">\n",
       "      <th></th>\n",
       "      <th>make</th>\n",
       "      <th>model</th>\n",
       "      <th>year</th>\n",
       "      <th>mileage</th>\n",
       "      <th>color</th>\n",
       "      <th>state</th>\n",
       "    </tr>\n",
       "  </thead>\n",
       "  <tbody>\n",
       "    <tr>\n",
       "      <th>0</th>\n",
       "      <td>Chevrolet</td>\n",
       "      <td>Cruze</td>\n",
       "      <td>2011</td>\n",
       "      <td>99157</td>\n",
       "      <td>white</td>\n",
       "      <td>TX</td>\n",
       "    </tr>\n",
       "    <tr>\n",
       "      <th>1</th>\n",
       "      <td>Toyota</td>\n",
       "      <td>Cruze</td>\n",
       "      <td>2017</td>\n",
       "      <td>19882</td>\n",
       "      <td>red</td>\n",
       "      <td>IL</td>\n",
       "    </tr>\n",
       "    <tr>\n",
       "      <th>2</th>\n",
       "      <td>Chevrolet</td>\n",
       "      <td>Altima</td>\n",
       "      <td>2011</td>\n",
       "      <td>77718</td>\n",
       "      <td>blue</td>\n",
       "      <td>CA</td>\n",
       "    </tr>\n",
       "    <tr>\n",
       "      <th>3</th>\n",
       "      <td>Nissan</td>\n",
       "      <td>Fusion</td>\n",
       "      <td>2012</td>\n",
       "      <td>83613</td>\n",
       "      <td>silver</td>\n",
       "      <td>TX</td>\n",
       "    </tr>\n",
       "    <tr>\n",
       "      <th>4</th>\n",
       "      <td>Ford</td>\n",
       "      <td>Cruze</td>\n",
       "      <td>2016</td>\n",
       "      <td>95349</td>\n",
       "      <td>red</td>\n",
       "      <td>NY</td>\n",
       "    </tr>\n",
       "  </tbody>\n",
       "</table>\n",
       "</div>"
      ],
      "text/plain": [
       "        make   model  year  mileage   color state\n",
       "0  Chevrolet   Cruze  2011    99157   white    TX\n",
       "1     Toyota   Cruze  2017    19882     red    IL\n",
       "2  Chevrolet  Altima  2011    77718    blue    CA\n",
       "3     Nissan  Fusion  2012    83613  silver    TX\n",
       "4       Ford   Cruze  2016    95349     red    NY"
      ]
     },
     "execution_count": 3,
     "metadata": {},
     "output_type": "execute_result"
    }
   ],
   "source": [
    "X.head()"
   ]
  },
  {
   "cell_type": "markdown",
   "id": "880c539e-3ee4-44af-b6a4-ab1aca21d99d",
   "metadata": {},
   "source": [
    "## Spearman's rank correlation coefficient"
   ]
  },
  {
   "cell_type": "markdown",
   "id": "77e5b020-b2fc-486d-aca8-907b726310af",
   "metadata": {},
   "source": [
    "One straightforward approach for identifying significant regression features is ranking them by their Spearman's rank correlation coefficient. Spearman's rank coefficient measures the strength and direction of the relationship between two variables, similar to Pearson's correlation coefficient. However, unlike the Pearson correlation coefficient, which assumes a linear relationship between the variables and requires normally distributed data, Spearman's rank coefficient can handle non-linear relationships and non-normal data. \n",
    "\n",
    "The coefficient ranges from -1 to 1, where a value of 1 indicates a perfect positive relationship, 0 indicates no relationship, and -1 indicates a perfect negative relationship. It is important to keep in mind that while this method works well with independent features, it may not perform as well when dealing with codependent features."
   ]
  },
  {
   "cell_type": "markdown",
   "id": "11a12d60-024a-4e6e-b119-f41690fc3434",
   "metadata": {},
   "source": [
    "Let's look at how each variable performs with respect to the target, y."
   ]
  },
  {
   "cell_type": "code",
   "execution_count": 4,
   "id": "b076fd96-d6e4-45b2-aea6-df5f5a755ba1",
   "metadata": {},
   "outputs": [
    {
     "name": "stdout",
     "output_type": "stream",
     "text": [
      "column name: make, correlation: 0.029341668753038994\n",
      "column name: model, correlation: 0.030883199735239147\n",
      "column name: year, correlation: -0.028275502656255173\n",
      "column name: mileage, correlation: 0.03903017855235552\n",
      "column name: color, correlation: 0.013177052062797293\n",
      "column name: state, correlation: 0.05948980192580221\n"
     ]
    }
   ],
   "source": [
    "corrs = []\n",
    "for col in X.columns:\n",
    "    corr, _ = spearmanr(X[col], y)\n",
    "    corrs.append(corr)\n",
    "    print(f\"column name: {col}, correlation: {corr}\")"
   ]
  },
  {
   "cell_type": "markdown",
   "id": "78a84c87-e533-49f4-a02f-82680d9730c9",
   "metadata": {
    "tags": []
   },
   "source": [
    "#### Visualizing importances (Spearman's correlation coefficient)"
   ]
  },
  {
   "cell_type": "code",
   "execution_count": 6,
   "id": "c4d5b05c-88da-42de-9264-a8064cc036a4",
   "metadata": {},
   "outputs": [
    {
     "data": {
      "image/png": "[encoded data removed]",
      "text/plain": [
       "<Figure size 432x288 with 1 Axes>"
      ]
     },
     "metadata": {
      "needs_background": "light"
     },
     "output_type": "display_data"
    }
   ],
   "source": [
    "data1 = pd.DataFrame({'corr': corrs}, index = X.columns)\n",
    "data1['corr'] = abs(data1['corr'])\n",
    "data1.plot(kind='bar', stacked=True)\n",
    "plt.xlabel('Feature name')\n",
    "plt.ylabel('Spearmans correlation coefficient')\n",
    "plt.title('Relative Feature Importance')\n",
    "plt.show()"
   ]
  },
  {
   "cell_type": "markdown",
   "id": "650658dc-c7ae-401e-9648-06cba1e56592",
   "metadata": {},
   "source": [
    "According to the plot, state and mileage are the most important features based on Spearman's rank correlation coefficient. Model, make, and year are the next most important, respectively."
   ]
  },
  {
   "cell_type": "markdown",
   "id": "4b2648dc-2fab-4e85-96ff-bfe8dfbeaa37",
   "metadata": {},
   "source": [
    "## Model-based importance strategies"
   ]
  },
  {
   "cell_type": "markdown",
   "id": "2e3df344-d1d5-482f-aeca-d6ebad90a126",
   "metadata": {},
   "source": [
    "The importance of each feature is typically measured using a metric that reflects how much the feature contributes to the model's accuracy or predictive power. Some commonly used metrics for feature importance include gini importance, permutation importance, and drop importance. \n",
    "\n",
    "In the following section, we will explore permutation importance."
   ]
  },
  {
   "cell_type": "markdown",
   "id": "649078a4-ce13-4d7c-adb7-8d93ed291f10",
   "metadata": {},
   "source": [
    "### Permutation importance"
   ]
  },
  {
   "cell_type": "markdown",
   "id": "b2b0fa92-e8af-4110-8e8a-74ec51be11bb",
   "metadata": {},
   "source": [
    "Permutation importance measures the decrease in a model's accuracy when the values of a particular feature are randomly shuffled."
   ]
  },
  {
   "cell_type": "markdown",
   "id": "022dab89-e354-42d9-8723-a0733779be4a",
   "metadata": {},
   "source": [
    "Random forests are often used to calculate permutation importance because they are able to capture non-linear interactions between features, handle high-dimensional datasets, and provide robust predictions. In a random forest, each decision tree is trained on a random subset of the features and samples from the dataset, which helps to reduce overfitting and improve generalization.\n",
    "\n",
    "Using a random forest to calculate permutation importance involves repeatedly permuting the values of a feature and evaluating the decrease in out-of-bag (OOB) accuracy or some other performance metric. This process can help identify which features are the most important for predicting the target variable, and can guide feature selection and engineering."
   ]
  },
  {
   "cell_type": "markdown",
   "id": "7f482461-89e1-463c-b8f2-f7873538ae31",
   "metadata": {},
   "source": [
    "We will be using RandomForestRegressor, which requires categorical variables to be encoded. Then, we will fit a RandomForestRegressor on the data to find the most important features."
   ]
  },
  {
   "cell_type": "code",
   "execution_count": 7,
   "id": "0def8ac3-58e3-42c3-b720-35e2d371f9b4",
   "metadata": {},
   "outputs": [
    {
     "name": "stdout",
     "output_type": "stream",
     "text": [
      "make: 0.021400630969319306\n",
      "model: 0.022246651780801527\n",
      "year: 0.02307620626949949\n",
      "mileage: 0.02074299385982053\n",
      "color: 0.02897094870932531\n",
      "state: 0.021247897083305538\n"
     ]
    }
   ],
   "source": [
    "preprocessor = ColumnTransformer(\n",
    "    transformers=[('cat', one_hot_encoder, ['make', 'model', 'year','color','state'])],\n",
    "    remainder='passthrough')\n",
    "X_encoded = preprocessor.fit_transform(X)\n",
    "model = RandomForestRegressor(n_estimators=100, random_state=1)\n",
    "model.fit(X_encoded, y)\n",
    "importances = model.feature_importances_\n",
    "feature_names = X.columns\n",
    "importance_arr = []\n",
    "for name, importance in zip(feature_names, importances):\n",
    "    importance_arr.append(importance)\n",
    "    print(f\"{name}: {importance}\")"
   ]
  },
  {
   "cell_type": "markdown",
   "id": "3c6091a3-e620-46fd-8d94-afff8f7efe0f",
   "metadata": {},
   "source": [
    "#### Visualizing importances (Permutation Importance)"
   ]
  },
  {
   "cell_type": "markdown",
   "id": "a315de8c-440c-45cb-afe9-c0a729830dd5",
   "metadata": {},
   "source": [
    "Let's take a look at the importances of our features as determined by the RF model."
   ]
  },
  {
   "cell_type": "code",
   "execution_count": 8,
   "id": "ed06e3f3-c2b4-4ef9-a680-6a02080b227e",
   "metadata": {},
   "outputs": [
    {
     "data": {
      "image/png": "[encoded data removed]",
      "text/plain": [
       "<Figure size 432x288 with 1 Axes>"
      ]
     },
     "metadata": {
      "needs_background": "light"
     },
     "output_type": "display_data"
    }
   ],
   "source": [
    "data2 = pd.DataFrame({'importance': importance_arr}, index = feature_names)\n",
    "data2.plot(kind='bar', stacked=True)\n",
    "plt.xlabel('Feature name')\n",
    "plt.ylabel('Importance')\n",
    "plt.title('Feature Importance')\n",
    "plt.show()"
   ]
  },
  {
   "cell_type": "markdown",
   "id": "aa190da4-33b4-4c82-970a-30e85e1ec7d6",
   "metadata": {},
   "source": [
    "According to the RandomForestRegressor, color and year are the most important features. "
   ]
  },
  {
   "cell_type": "markdown",
   "id": "91a34f5c-cf17-4dcd-8859-d3d12b1bec63",
   "metadata": {},
   "source": [
    "We can see that this plot looks different from the Spearman's feature importance plot. This is because while random forest feature importance is based on the model's accuracy, Spearman's correlation is based on the relationship between the features and the target variable. Random forest feature importance is generally more useful for identifying the most important features for predicting the target variable, while Spearman's correlation can be useful for understanding the strength of the relationship between each feature and the target variable."
   ]
  },
  {
   "cell_type": "markdown",
   "id": "1c98328f-5d5f-4caf-8a28-fb5806446397",
   "metadata": {},
   "source": [
    "### Comparing strategies"
   ]
  },
  {
   "cell_type": "markdown",
   "id": "1a30cbda-8835-496b-ab05-b5cac42b5ed2",
   "metadata": {},
   "source": [
    "We can use many different methods to find the top k features, such as Spearman's rank coefficient, PCA, linear regression (OLS), Random Forest, and XGBoost, to name a few. It's often the case that features determined for one model do not export well to other models."
   ]
  },
  {
   "cell_type": "code",
   "execution_count": 9,
   "id": "42db2e5b-f592-4531-be2c-53b8f907c18c",
   "metadata": {},
   "outputs": [
    {
     "data": {
      "text/html": [
       "<div>\n",
       "<style scoped>\n",
       "    .dataframe tbody tr th:only-of-type {\n",
       "        vertical-align: middle;\n",
       "    }\n",
       "\n",
       "    .dataframe tbody tr th {\n",
       "        vertical-align: top;\n",
       "    }\n",
       "\n",
       "    .dataframe thead th {\n",
       "        text-align: right;\n",
       "    }\n",
       "</style>\n",
       "<table border=\"1\" class=\"dataframe\">\n",
       "  <thead>\n",
       "    <tr style=\"text-align: right;\">\n",
       "      <th></th>\n",
       "      <th>Spearman</th>\n",
       "      <th>Random Forest</th>\n",
       "    </tr>\n",
       "  </thead>\n",
       "  <tbody>\n",
       "    <tr>\n",
       "      <th>make</th>\n",
       "      <td>0.029342</td>\n",
       "      <td>0.021401</td>\n",
       "    </tr>\n",
       "    <tr>\n",
       "      <th>model</th>\n",
       "      <td>0.030883</td>\n",
       "      <td>0.022247</td>\n",
       "    </tr>\n",
       "    <tr>\n",
       "      <th>year</th>\n",
       "      <td>0.028276</td>\n",
       "      <td>0.023076</td>\n",
       "    </tr>\n",
       "    <tr>\n",
       "      <th>mileage</th>\n",
       "      <td>0.039030</td>\n",
       "      <td>0.020743</td>\n",
       "    </tr>\n",
       "    <tr>\n",
       "      <th>color</th>\n",
       "      <td>0.013177</td>\n",
       "      <td>0.028971</td>\n",
       "    </tr>\n",
       "    <tr>\n",
       "      <th>state</th>\n",
       "      <td>0.059490</td>\n",
       "      <td>0.021248</td>\n",
       "    </tr>\n",
       "  </tbody>\n",
       "</table>\n",
       "</div>"
      ],
      "text/plain": [
       "         Spearman  Random Forest\n",
       "make     0.029342       0.021401\n",
       "model    0.030883       0.022247\n",
       "year     0.028276       0.023076\n",
       "mileage  0.039030       0.020743\n",
       "color    0.013177       0.028971\n",
       "state    0.059490       0.021248"
      ]
     },
     "execution_count": 9,
     "metadata": {},
     "output_type": "execute_result"
    }
   ],
   "source": [
    "rf_importances = importance_arr\n",
    "spearman_importances = np.abs(data1['corr'])\n",
    "feature_importances = pd.DataFrame({\n",
    "    'Spearman': spearman_importances,\n",
    "    'Random Forest': rf_importances\n",
    "}, index=X.columns)\n",
    "feature_importances"
   ]
  },
  {
   "cell_type": "markdown",
   "id": "34582b47-e1d1-4530-96dd-0045671dd2d9",
   "metadata": {},
   "source": [
    "Let's take a look at the features side by side."
   ]
  },
  {
   "cell_type": "code",
   "execution_count": 10,
   "id": "e8d1cbab-43a6-4894-a811-d193bf3e5cba",
   "metadata": {},
   "outputs": [
    {
     "data": {
      "image/png": "[encoded data removed]",
      "text/plain": [
       "<Figure size 576x288 with 1 Axes>"
      ]
     },
     "metadata": {
      "needs_background": "light"
     },
     "output_type": "display_data"
    }
   ],
   "source": [
    "feature_importances = feature_importances.sort_values(by='Random Forest', ascending=False)\n",
    "ax = feature_importances.plot(kind='bar', figsize=(8, 4), color=['tab:blue', 'tab:orange'])\n",
    "ax.set_title('Feature Importances', fontsize=16)\n",
    "ax.set_xlabel('Features', fontsize=14)\n",
    "ax.set_ylabel('Importance', fontsize=14)\n",
    "plt.show()"
   ]
  },
  {
   "cell_type": "markdown",
   "id": "e7c25d03-ed92-4223-bcc7-5e287cd34211",
   "metadata": {},
   "source": [
    "From this plot, we can see that Spearman and RF do not agree on which features are most important. \n",
    "\n",
    "One way to deal with this problem is by dropping one feature at a time, refitting the model, and looking at the validation metric to see if it has changed much. \n",
    "\n",
    "Since we only have 6 features in our original cars dataset, let's look at a dataset that needs more feature selection."
   ]
  },
  {
   "cell_type": "markdown",
   "id": "74d83953-0d32-4c8f-a482-349bb649b13d",
   "metadata": {},
   "source": [
    "### Automatic feature selection algorithm"
   ]
  },
  {
   "cell_type": "code",
   "execution_count": 11,
   "id": "a86f6fdf-a247-4943-8a68-127f7dd4d262",
   "metadata": {},
   "outputs": [
    {
     "data": {
      "text/plain": [
       "30"
      ]
     },
     "execution_count": 11,
     "metadata": {},
     "output_type": "execute_result"
    }
   ],
   "source": [
    "data = load_breast_cancer()\n",
    "X = pd.DataFrame(data.data, columns=data.feature_names)\n",
    "y = pd.Series(data.target)\n",
    "len(X.columns)"
   ]
  },
  {
   "cell_type": "markdown",
   "id": "920b6c6a-e4a9-4459-b66c-fd8b1daee522",
   "metadata": {},
   "source": [
    "This breast cancer dataset has 30 features. \n",
    "\n",
    "To find the top k, the code loops over the features in descending order of importance and drops one feature at a time. Then, it retrains the model and computes the validation error. If the new error is better than the baseline error, the baseline error and feature importances are updated. If the new error is worse, the loop stops and the previous feature set is used."
   ]
  },
  {
   "cell_type": "code",
   "execution_count": 12,
   "id": "3d5dd6fa-6707-46d2-90f1-99582be831b3",
   "metadata": {},
   "outputs": [],
   "source": [
    "k=3\n",
    "baseline_error, final_error = automatic_feature_selection(X, y, k=k)"
   ]
  },
  {
   "cell_type": "code",
   "execution_count": 13,
   "id": "e9ecffbb-829e-4b9c-a567-81793cc2e8d1",
   "metadata": {},
   "outputs": [
    {
     "name": "stdout",
     "output_type": "stream",
     "text": [
      "Validation error with all features: 0.956140350877193\n",
      "Validation error with top 3 features: 0.9473684210526315\n"
     ]
    }
   ],
   "source": [
    "print(f\"Validation error with all features: {baseline_error}\")\n",
    "print(f\"Validation error with top {k} features: {final_error}\")"
   ]
  },
  {
   "cell_type": "markdown",
   "id": "bcd5e4ec-48ff-4d9f-83af-8b2feaa806bc",
   "metadata": {},
   "source": [
    "We can see that the validation error differs very little when we use only 3 features as opposed to 30.\n",
    "\n",
    "Using fewer features can make the model simpler and easier to understand and interpret, as well as reducing the computational cost and time required to train and apply the model, which is especially important when dealing with large datasets. This can also help avoid the curse of dimensionality, where high-dimensional data can become sparse and noisy, making it harder to find meaningful patterns and relationships. By reducing the number of features, the model can focus on the most relevant and informative aspects of the data, leading to better generalization and prediction performance."
   ]
  },
  {
   "cell_type": "markdown",
   "id": "e3491193-6dfe-499c-b95b-17c8a8b00352",
   "metadata": {},
   "source": [
    "In summary, using fewer features when modeling can lead to simpler, faster, more generalizable, and more reliable models."
   ]
  },
  {
   "cell_type": "markdown",
   "id": "8857861d-0462-418b-9e47-4dce77f1c60e",
   "metadata": {},
   "source": [
    "### Variance and empirical p-values for feature importances"
   ]
  },
  {
   "cell_type": "markdown",
   "id": "76f803cd-5145-4d0f-bab4-573385357d4e",
   "metadata": {},
   "source": [
    "Having the variance or standard deviation of the feature importances is very useful because it can help us choose which features we want to include. Features with little to no variance are not able to tell us much about our data, as variation is information. To get the variation, which we will measure as standard deviation in the following example, we will bootstrap the data (randomly sample data with replacement to simulate multiple sub-samples) in order to estimate the variability of each feature's importance score. This approach can help provide a more accurate and robust estimate of a feature's importance, as it takes into account the potential variability in the data."
   ]
  },
  {
   "cell_type": "code",
   "execution_count": 14,
   "id": "c5fc7e47-5115-474c-8ea5-65aaed65cf21",
   "metadata": {},
   "outputs": [],
   "source": [
    "rf = RandomForestRegressor(n_estimators=100, random_state=1)\n",
    "n_samples = 1000\n",
    "n_repeats = 10\n",
    "importances = np.zeros((n_samples, X.shape[1]))\n",
    "\n",
    "for i in range(n_repeats):\n",
    "    X_boot, y_boot = resample(X, y, replace=True, random_state=i)\n",
    "    rf.fit(X_boot, y_boot)\n",
    "    importances[i*n_samples:(i+1)*n_samples] = rf.feature_importances_"
   ]
  },
  {
   "cell_type": "markdown",
   "id": "301dae75-783c-4e64-8e33-2818d8c1ab24",
   "metadata": {},
   "source": [
    "In order to compare the variances, we will normalize our array (scale from 0 to 1)."
   ]
  },
  {
   "cell_type": "code",
   "execution_count": 15,
   "id": "d50608d8-e71e-4c17-a033-6a92d2870471",
   "metadata": {},
   "outputs": [],
   "source": [
    "std_dev = np.std(importances, axis=0)\n",
    "norm = np.linalg.norm(std_dev)\n",
    "normalized_sd = std_dev / norm"
   ]
  },
  {
   "cell_type": "markdown",
   "id": "16bb039f-cf7b-47f7-8779-5cc0dae78cc0",
   "metadata": {},
   "source": [
    "#### Visualizing variation in features"
   ]
  },
  {
   "cell_type": "code",
   "execution_count": 16,
   "id": "07bafd44-cfbc-4dd9-882c-6e004ab1b31d",
   "metadata": {},
   "outputs": [
    {
     "data": {
      "image/png": "[encoded data removed]",
      "text/plain": [
       "<Figure size 432x288 with 1 Axes>"
      ]
     },
     "metadata": {
      "needs_background": "light"
     },
     "output_type": "display_data"
    }
   ],
   "source": [
    "data2 = pd.DataFrame({'normalized_sd': normalized_sd}, index = X.columns)\n",
    "data2.plot(kind='bar', stacked=True)\n",
    "plt.xlabel('Feature name')\n",
    "plt.ylabel('Standard Deviation')\n",
    "plt.title('Standard Deviation of all features')\n",
    "plt.show()"
   ]
  },
  {
   "cell_type": "markdown",
   "id": "b03edb76-15a2-48fb-9af7-ead50f95e11d",
   "metadata": {},
   "source": [
    "When looking at standard deviation in feature selection, we want features with some variation. \n",
    "\n",
    "Features with low standard deviation tend to have little variation in their values, and as a result, may not provide much information to distinguish between different instances in the dataset. On the other hand, features with high standard deviation tend to have a wider range of values and may be more informative. Let's look at the features with the 6 highest standard deviations."
   ]
  },
  {
   "cell_type": "code",
   "execution_count": 17,
   "id": "802800f0-2e75-492c-b423-33fd726ed136",
   "metadata": {},
   "outputs": [
    {
     "data": {
      "image/png": "[encoded data removed]",
      "text/plain": [
       "<Figure size 432x288 with 1 Axes>"
      ]
     },
     "metadata": {
      "needs_background": "light"
     },
     "output_type": "display_data"
    }
   ],
   "source": [
    "sorted_df = data2.sort_values(by='normalized_sd', ascending=True)\n",
    "subset = sorted_df[-6:]\n",
    "subset.plot(kind='bar', stacked=True)\n",
    "plt.xlabel('Feature name')\n",
    "plt.ylabel('Standard Deviation')\n",
    "plt.title('Standard Deviation of top 6 features')\n",
    "plt.show()"
   ]
  },
  {
   "cell_type": "markdown",
   "id": "c5b135e5-b3ae-45b9-9b2f-6b3bd9e4c1b9",
   "metadata": {},
   "source": [
    "From this plot, we can clearly see which features have the most variation. \n",
    "\n",
    "It is important to take standard deviation and variance into account when selecting features, as these metrics can provide useful information about the distribution and range of values for that feature.\n",
    "\n",
    "Features with low variance and standard deviation may not be as important in predicting the target variable. Furthermore, if two or more features are highly correlated with each other, it may be redundant to include all of them in the model, as they may provide similar information. In such cases, selecting the feature with the highest variance or standard deviation can be a useful approach to feature selection.\n"
   ]
  },
  {
   "cell_type": "markdown",
   "id": "b8c5bf0e-84c0-4314-90ba-09fce537e73d",
   "metadata": {},
   "source": [
    "### Summary "
   ]
  },
  {
   "cell_type": "markdown",
   "id": "a5ebf7c3-348d-4fc6-852f-9100d7f9e64f",
   "metadata": {},
   "source": [
    "Feature selection is the process of selecting a subset of relevant features from a larger set of features in a dataset. This is an important step in the modeling process, and is frequently used in the fields of bioinformatics, NLP, image processing, and more.\n",
    "\n",
    "In summary, feature selection is an important technique in machine learning that can help improve model performance, reduce computation time, and increase interpretability."
   ]
  }
 ],
 "metadata": {
  "kernelspec": {
   "display_name": "Python 3 (ipykernel)",
   "language": "python",
   "name": "python3"
  },
  "language_info": {
   "codemirror_mode": {
    "name": "ipython",
    "version": 3
   },
   "file_extension": ".py",
   "mimetype": "text/x-python",
   "name": "python",
   "nbconvert_exporter": "python",
   "pygments_lexer": "ipython3",
   "version": "3.9.12"
  }
 },
 "nbformat": 4,
 "nbformat_minor": 5
}
